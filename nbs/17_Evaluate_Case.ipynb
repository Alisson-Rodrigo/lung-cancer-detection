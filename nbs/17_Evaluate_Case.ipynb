{
 "cells": [
  {
   "cell_type": "markdown",
   "id": "c555c26a",
   "metadata": {},
   "source": [
    "# Evaluate model on selected case"
   ]
  },
  {
   "cell_type": "markdown",
   "id": "5266895f",
   "metadata": {},
   "source": [
    "## Import modules"
   ]
  },
  {
   "cell_type": "code",
   "execution_count": 1,
   "id": "2f240242",
   "metadata": {},
   "outputs": [],
   "source": [
    "%load_ext autoreload\n",
    "%autoreload 2"
   ]
  },
  {
   "cell_type": "code",
   "execution_count": 102,
   "id": "9750f2b2",
   "metadata": {},
   "outputs": [],
   "source": [
    "from pathlib import Path\n",
    "\n",
    "import ipywidgets as widgets\n",
    "import torch\n",
    "from torch.utils.data import DataLoader\n",
    "import torch.nn.functional as F\n",
    "from monai.data import list_data_collate\n",
    "from pytorch_lightning import Trainer\n",
    "from captum.attr import IntegratedGradients\n",
    "import matplotlib.pyplot as plt\n",
    "\n",
    "from lung_cancer_detection.data.nodule import ClassificationDataModule\n",
    "from lung_cancer_detection.models.classification import NoduleClassificationModule\n",
    "from lung_cancer_detection.utils import preview_dataset, load_json, preview_explanations"
   ]
  },
  {
   "cell_type": "markdown",
   "id": "f0f7a761",
   "metadata": {},
   "source": [
    "## Setup data module"
   ]
  },
  {
   "cell_type": "code",
   "execution_count": 3,
   "id": "062c2e7b",
   "metadata": {},
   "outputs": [
    {
     "name": "stdout",
     "output_type": "stream",
     "text": [
      "True True True True\n"
     ]
    }
   ],
   "source": [
    "rp = Path(\"/Volumes/LaCie/data/lung-cancer-detection/lidc-idri/\").absolute()\n",
    "dp = rp/\"processed\"\n",
    "cp = (Path()/\"../data/cache/\").absolute()\n",
    "sp = rp/\"splits\"\n",
    "cp.mkdir(exist_ok=True)\n",
    "mp = (Path()/\"../models/classification/nodule_classification_baseline.ckpt\").absolute()\n",
    "print(dp.exists(), cp.exists(), sp.exists(), mp.exists())"
   ]
  },
  {
   "cell_type": "code",
   "execution_count": 4,
   "id": "c1a7a2fb",
   "metadata": {},
   "outputs": [],
   "source": [
    "splits = [load_json(f) for f in sp.iterdir()]"
   ]
  },
  {
   "cell_type": "code",
   "execution_count": 5,
   "id": "7130df72",
   "metadata": {},
   "outputs": [],
   "source": [
    "dm = ClassificationDataModule(dp, \n",
    "                              cp, \n",
    "                              splits, \n",
    "                              min_anns=1, \n",
    "                              exclude_labels=[], \n",
    "                              label_mapping=([1,2,3,4,5], [0,0,0,1,1]))"
   ]
  },
  {
   "cell_type": "code",
   "execution_count": 6,
   "id": "04d7cc62",
   "metadata": {},
   "outputs": [],
   "source": [
    "dm.setup()"
   ]
  },
  {
   "cell_type": "markdown",
   "id": "55ff2827",
   "metadata": {},
   "source": [
    "## Show case nodules"
   ]
  },
  {
   "cell_type": "code",
   "execution_count": 7,
   "id": "9b2082fc",
   "metadata": {},
   "outputs": [],
   "source": [
    "case = \"LIDC-IDRI-0186\""
   ]
  },
  {
   "cell_type": "code",
   "execution_count": 8,
   "id": "7a241415",
   "metadata": {},
   "outputs": [],
   "source": [
    "nods = dm.query_by_case(case)"
   ]
  },
  {
   "cell_type": "code",
   "execution_count": 9,
   "id": "b8eb63de",
   "metadata": {},
   "outputs": [
    {
     "data": {
      "application/vnd.jupyter.widget-view+json": {
       "model_id": "ad4ea97ca44f4904a824c5c49ef9c29a",
       "version_major": 2,
       "version_minor": 0
      },
      "text/plain": [
       "HBox(children=(HBox(children=(IntSlider(value=14, max=29),)), Output()))"
      ]
     },
     "metadata": {},
     "output_type": "display_data"
    }
   ],
   "source": [
    "z = widgets.IntSlider(value=14, min=0, max=29, step=1)\n",
    "\n",
    "def print_images(z):\n",
    "    preview_dataset(nods, z=z)\n",
    "    \n",
    "out = widgets.interactive_output(print_images, {'z': z})\n",
    "widgets.HBox([widgets.HBox([z]), out])"
   ]
  },
  {
   "cell_type": "code",
   "execution_count": 10,
   "id": "8256724b",
   "metadata": {},
   "outputs": [],
   "source": [
    "data = DataLoader(nods, batch_size=len(nods), shuffle=False, num_workers=4, collate_fn=list_data_collate)"
   ]
  },
  {
   "cell_type": "markdown",
   "id": "f854c87d",
   "metadata": {},
   "source": [
    "## Evaluate model predictions"
   ]
  },
  {
   "cell_type": "code",
   "execution_count": 11,
   "id": "a1eb6320",
   "metadata": {},
   "outputs": [],
   "source": [
    "model = NoduleClassificationModule.load_from_checkpoint(mp)"
   ]
  },
  {
   "cell_type": "code",
   "execution_count": 12,
   "id": "4c145796",
   "metadata": {},
   "outputs": [
    {
     "name": "stderr",
     "output_type": "stream",
     "text": [
      "GPU available: False, used: False\n",
      "TPU available: False, using: 0 TPU cores\n"
     ]
    }
   ],
   "source": [
    "trainer = Trainer()"
   ]
  },
  {
   "cell_type": "code",
   "execution_count": 15,
   "id": "1fad101a",
   "metadata": {},
   "outputs": [
    {
     "data": {
      "application/vnd.jupyter.widget-view+json": {
       "model_id": "326fd9ae37694cb3b150336eef4aaa36",
       "version_major": 2,
       "version_minor": 0
      },
      "text/plain": [
       "Predicting: 0it [00:00, ?it/s]"
      ]
     },
     "metadata": {},
     "output_type": "display_data"
    },
    {
     "name": "stdout",
     "output_type": "stream",
     "text": [
      "<class 'list'>\n"
     ]
    }
   ],
   "source": [
    "preds = trainer.predict(model, dataloaders=data)\n",
    "print(type(preds))"
   ]
  },
  {
   "cell_type": "code",
   "execution_count": 21,
   "id": "36586ed2",
   "metadata": {},
   "outputs": [],
   "source": [
    "preds = preds[0].numpy()[:,1]"
   ]
  },
  {
   "cell_type": "code",
   "execution_count": 28,
   "id": "6e1f0c76",
   "metadata": {},
   "outputs": [
    {
     "data": {
      "application/vnd.jupyter.widget-view+json": {
       "model_id": "adaa29a89f694544b5b5336f0f1733fe",
       "version_major": 2,
       "version_minor": 0
      },
      "text/plain": [
       "HBox(children=(HBox(children=(IntSlider(value=14, max=29),)), Output()))"
      ]
     },
     "metadata": {},
     "output_type": "display_data"
    }
   ],
   "source": [
    "z = widgets.IntSlider(value=14, min=0, max=29, step=1)\n",
    "\n",
    "def print_images(z):\n",
    "    preview_dataset(nods, z=z, preds=preds)\n",
    "    \n",
    "out = widgets.interactive_output(print_images, {'z': z})\n",
    "widgets.HBox([widgets.HBox([z]), out])"
   ]
  },
  {
   "cell_type": "markdown",
   "id": "5e27b695",
   "metadata": {},
   "source": [
    "## Explain model predictions"
   ]
  },
  {
   "cell_type": "code",
   "execution_count": 32,
   "id": "64c9197e",
   "metadata": {},
   "outputs": [],
   "source": [
    "batch = None\n",
    "for idx, sample in enumerate(data):\n",
    "    batch = sample"
   ]
  },
  {
   "cell_type": "code",
   "execution_count": 35,
   "id": "e7a2fec5",
   "metadata": {},
   "outputs": [],
   "source": [
    "x = batch[\"image\"]"
   ]
  },
  {
   "cell_type": "code",
   "execution_count": 39,
   "id": "c2eb0d26",
   "metadata": {},
   "outputs": [
    {
     "data": {
      "text/plain": [
       "tensor([[0.8745, 0.1255],\n",
       "        [0.9346, 0.0654],\n",
       "        [0.7460, 0.2540],\n",
       "        [0.7485, 0.2515],\n",
       "        [0.1518, 0.8482]], grad_fn=<SoftmaxBackward>)"
      ]
     },
     "execution_count": 39,
     "metadata": {},
     "output_type": "execute_result"
    }
   ],
   "source": [
    "F.softmax(model.forward(x), dim=-1)"
   ]
  },
  {
   "cell_type": "code",
   "execution_count": 48,
   "id": "6582651d",
   "metadata": {},
   "outputs": [],
   "source": [
    "ig = IntegratedGradients(model)"
   ]
  },
  {
   "cell_type": "code",
   "execution_count": 54,
   "id": "aecec0db",
   "metadata": {},
   "outputs": [],
   "source": [
    "baseline = torch.zeros(x.shape)"
   ]
  },
  {
   "cell_type": "code",
   "execution_count": 55,
   "id": "ac5d364a",
   "metadata": {},
   "outputs": [],
   "source": [
    "attributions, delta = ig.attribute(x, baseline, target=1, return_convergence_delta=True)"
   ]
  },
  {
   "cell_type": "code",
   "execution_count": 105,
   "id": "77a30c29",
   "metadata": {},
   "outputs": [
    {
     "data": {
      "application/vnd.jupyter.widget-view+json": {
       "model_id": "ff71dd2f76f340d998549f3628ac6410",
       "version_major": 2,
       "version_minor": 0
      },
      "text/plain": [
       "HBox(children=(HBox(children=(IntSlider(value=14, max=29),)), Output()))"
      ]
     },
     "metadata": {},
     "output_type": "display_data"
    }
   ],
   "source": [
    "z = widgets.IntSlider(value=14, min=0, max=29, step=1)\n",
    "\n",
    "def print_images(z):\n",
    "    preview_explanations(x, attributions, z=z)\n",
    "    \n",
    "out = widgets.interactive_output(print_images, {'z': z})\n",
    "widgets.HBox([widgets.HBox([z]), out])"
   ]
  },
  {
   "cell_type": "code",
   "execution_count": null,
   "id": "f3e74b6b",
   "metadata": {},
   "outputs": [],
   "source": []
  }
 ],
 "metadata": {
  "kernelspec": {
   "display_name": "Python 3",
   "language": "python",
   "name": "python3"
  },
  "language_info": {
   "codemirror_mode": {
    "name": "ipython",
    "version": 3
   },
   "file_extension": ".py",
   "mimetype": "text/x-python",
   "name": "python",
   "nbconvert_exporter": "python",
   "pygments_lexer": "ipython3",
   "version": "3.8.5"
  },
  "toc": {
   "base_numbering": 1,
   "nav_menu": {
    "height": "225px",
    "width": "315px"
   },
   "number_sections": true,
   "sideBar": true,
   "skip_h1_title": true,
   "title_cell": "Table of Contents",
   "title_sidebar": "Contents",
   "toc_cell": false,
   "toc_position": {},
   "toc_section_display": true,
   "toc_window_display": false
  }
 },
 "nbformat": 4,
 "nbformat_minor": 5
}
