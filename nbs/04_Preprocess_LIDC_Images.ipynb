{
 "cells": [
  {
   "cell_type": "code",
   "execution_count": null,
   "metadata": {},
   "outputs": [],
   "source": [
    "import os\n",
    "from pathlib import Path\n",
    "\n",
    "import pandas as pd\n",
    "import numpy as np\n",
    "import pydicom as dicom\n",
    "import pylidc as pl\n",
    "from tqdm import tqdm"
   ]
  },
  {
   "cell_type": "code",
   "execution_count": null,
   "metadata": {},
   "outputs": [],
   "source": [
    "LIDC_DIR = Path(\"/Volumes/LaCie/data/lung-cancer-detection/lidc-idri/\")\n",
    "DICOM_DIR = LIDC_DIR / \"LIDC-IDRI\"\n",
    "PROC_DIR = LIDC_DIR / \"processed\""
   ]
  },
  {
   "cell_type": "code",
   "execution_count": null,
   "metadata": {},
   "outputs": [],
   "source": [
    "print(LIDC_DIR.exists())\n",
    "print(DICOM_DIR.exists())\n",
    "PROC_DIR.mkdir(parents=True, exist_ok=True)"
   ]
  },
  {
   "cell_type": "code",
   "execution_count": null,
   "metadata": {},
   "outputs": [],
   "source": [
    "patient_list= [f for f in os.listdir(DICOM_DIR) if not f.startswith('.')]\n",
    "patient_list.sort()"
   ]
  },
  {
   "cell_type": "code",
   "execution_count": null,
   "metadata": {},
   "outputs": [],
   "source": [
    "def _load_raw_images(scan):\n",
    "    scan_path = Path(scan.get_path_to_dicom_files())\n",
    "    fnames = [fname for fname in os.listdir(scan_path) if fname.endswith('.dcm') and not fname.startswith('.')]\n",
    "    imgs = [dicom.dcmread(scan_path/fname) for fname in fnames]\n",
    "    return imgs\n",
    "\n",
    "def _clean_images(imgs):\n",
    "    zs = [float(img.ImagePositionPatient[-1]) for img in imgs]\n",
    "    inums = [float(img.InstanceNumber) for img in imgs]\n",
    "    inds = list(range(len(zs)))\n",
    "    while np.unique(zs).shape[0] != len(inds):\n",
    "        for i in inds:\n",
    "            for j in inds:\n",
    "                if i!=j and zs[i] == zs[j]:\n",
    "                    k = i if inums[i] > inums[j] else j\n",
    "                    inds.pop(inds.index(k))\n",
    "\n",
    "    # Prune the duplicates found in the loops above.\n",
    "    zs = [zs[i] for i in range(len(zs)) if i in inds]\n",
    "    imgs = [imgs[i] for i in range(len(imgs)) if i in inds]\n",
    "\n",
    "    # Sort everything by (now unique) ImagePositionPatient z coordinate.\n",
    "    sort_inds = np.argsort(zs)\n",
    "    imgs = [imgs[s] for s in sort_inds]\n",
    "    return imgs\n",
    "\n",
    "def load_lidc_scan(pid):\n",
    "    scan = pl.query(pl.Scan).filter(pl.Scan.patient_id == pid).first()\n",
    "    nods = scan.cluster_annotations()\n",
    "    imgs = _load_raw_images(scan)\n",
    "    imgs = _clean_images(imgs)\n",
    "    return imgs, nods\n",
    "\n",
    "def _to_volume(imgs):\n",
    "    # check whether images have same size\n",
    "    img_sizes = np.array([(img.Rows, img.Columns) for img in imgs])\n",
    "    if len(np.unique(img_sizes[:,0])) != 1 or len(np.unique(img_sizes[:,1])) != 1:\n",
    "        raise ValueError(\"Images do not have the same dimensions.\")\n",
    "    x, y = imgs[0].Rows, imgs[0].Columns\n",
    "    vol = np.zeros((x, y, len(imgs)), dtype=np.int16)\n",
    "    for i in range(len(imgs)):\n",
    "        vol[:,:,i] = imgs[i].pixel_array\n",
    "    return vol\n",
    "\n",
    "def _extract_meta(imgs):\n",
    "    img = imgs[0]\n",
    "    meta = {\n",
    "        \"studyID\": img.StudyInstanceUID if hasattr(img, \"StudyInstanceUID\") else None,\n",
    "        \"seriesID\": img.SeriesInstanceUID if hasattr(img, \"SeriesInstanceUID\") else None,\n",
    "        \"manufacturer\": img.Manufacturer if hasattr(img, \"Manufacturer\") else None,\n",
    "        \"modelName\": img.ManufacturerModelName if hasattr(img, \"ManufacturerModelName\") else None,\n",
    "        \"patientID\": img.PatientID if hasattr(img, \"PatientID\") else None,\n",
    "        \"patientSex\": img.PatientSex if hasattr(img, \"PatientSex\") and img.PatientSex != '' else None,\n",
    "        \"patientAge\": img.PatientAge if hasattr(img, \"PatientAge\") and img.PatientAge != '' else None,\n",
    "        \"patientEthnic\": img.EthnicGroup if hasattr(img, \"EthnicGroup\") else None,\n",
    "        \"patientPosition\": img.PatientPosition if hasattr(img, \"PatientPosition\") else None,\n",
    "        \"bitsStored\": img.BitsStored if hasattr(img, \"BitsStored\") else None,\n",
    "        \"pixelRepresentation\": img.PixelRepresentation if hasattr(img, \"PixelRepresentation\") else None,\n",
    "        \"xPxSpacing\": img.PixelSpacing[0] if hasattr(img, \"PixelSpacing\") else None,\n",
    "        \"yPxSpacing\": img.PixelSpacing[1] if hasattr(img, \"PixelSpacing\") else None,\n",
    "        \"sliceThickness\": img.SliceThickness if hasattr(img, \"SliceThickness\") else None,\n",
    "        \"rescaleIntercept\": img.RescaleIntercept if hasattr(img, \"RescaleIntercept\") else None,\n",
    "        \"rescaleSlope\": img.RescaleSlope if hasattr(img, \"RescaleSlope\") else None,\n",
    "        \"minPxVal\": img.SmallestImagePixelValue if hasattr(img, \"SmallestImagePixelValue\") else None,\n",
    "        \"maxPxVal\": img.LargestImagePixelValue if hasattr(img, \"LargestImagePixelValue\") else None,\n",
    "        \"x\": img.Rows if hasattr(img, \"Rows\") else None,\n",
    "        \"y\": img.Columns if hasattr(img, \"Columns\") else None,\n",
    "        \"z\": len(imgs),\n",
    "    }\n",
    "    return meta\n",
    "\n",
    "def _prepare_meta_df(data):\n",
    "    df = pd.DataFrame(data=data)\n",
    "    return df\n",
    "\n",
    "def _preprocess_lidc_scan(pid):\n",
    "    imgs, nods = load_lidc_scan(pid)\n",
    "    vol = _to_volume(imgs)\n",
    "    meta = _extract_meta(imgs)\n",
    "    return vol, meta, nods\n",
    "\n",
    "def preprocess_lidc_scans(pids, proc_dir):\n",
    "    scan_dir = proc_dir / \"scans\"\n",
    "    scan_dir.mkdir(parents=True, exist_ok=True)\n",
    "    \n",
    "    meta_data = []\n",
    "    for pid in tqdm(pids):\n",
    "        vol, meta, _ = _preprocess_lidc_scan(pid)\n",
    "        meta_data.append(meta)\n",
    "        np.save(scan_dir/f\"{pid}.npy\", vol)\n",
    "    df = _prepare_meta_df(meta_data)\n",
    "    df.to_csv(proc_dir/\"scan_meta.csv\")\n",
    "    return df"
   ]
  },
  {
   "cell_type": "code",
   "execution_count": null,
   "metadata": {},
   "outputs": [],
   "source": [
    "df = preprocess_lidc_scans(patient_list, PROC_DIR)"
   ]
  }
 ],
 "metadata": {
  "kernelspec": {
   "display_name": "Python 3",
   "language": "python",
   "name": "python3"
  },
  "language_info": {
   "codemirror_mode": {
    "name": "ipython",
    "version": 3
   },
   "file_extension": ".py",
   "mimetype": "text/x-python",
   "name": "python",
   "nbconvert_exporter": "python",
   "pygments_lexer": "ipython3",
   "version": "3.8.5"
  },
  "toc": {
   "base_numbering": 1,
   "nav_menu": {},
   "number_sections": true,
   "sideBar": true,
   "skip_h1_title": true,
   "title_cell": "Table of Contents",
   "title_sidebar": "Contents",
   "toc_cell": false,
   "toc_position": {},
   "toc_section_display": true,
   "toc_window_display": false
  }
 },
 "nbformat": 4,
 "nbformat_minor": 4
}
