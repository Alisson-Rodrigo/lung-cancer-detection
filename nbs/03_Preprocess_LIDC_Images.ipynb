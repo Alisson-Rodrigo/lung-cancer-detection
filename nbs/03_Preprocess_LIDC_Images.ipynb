{
 "cells": [
  {
   "cell_type": "markdown",
   "metadata": {},
   "source": [
    "# Preprocess LIDC chest CT scans"
   ]
  },
  {
   "cell_type": "markdown",
   "metadata": {},
   "source": [
    "## Setup and configuration"
   ]
  },
  {
   "cell_type": "code",
   "execution_count": 47,
   "metadata": {},
   "outputs": [],
   "source": [
    "import os\n",
    "from pathlib import Path\n",
    "\n",
    "import pandas as pd\n",
    "import numpy as np\n",
    "import pydicom as dicom\n",
    "import pylidc as pl"
   ]
  },
  {
   "cell_type": "code",
   "execution_count": 2,
   "metadata": {},
   "outputs": [],
   "source": [
    "LIDC_DIR = Path(\"/Volumes/LaCie/data/lung-cancer-detection/lidc-idri/\")\n",
    "DICOM_DIR = LIDC_DIR / \"LIDC-IDRI\""
   ]
  },
  {
   "cell_type": "code",
   "execution_count": 3,
   "metadata": {},
   "outputs": [
    {
     "name": "stdout",
     "output_type": "stream",
     "text": [
      "True\n",
      "True\n"
     ]
    }
   ],
   "source": [
    "print(LIDC_DIR.exists())\n",
    "print(DICOM_DIR.exists())"
   ]
  },
  {
   "cell_type": "markdown",
   "metadata": {},
   "source": [
    "## Load patients"
   ]
  },
  {
   "cell_type": "code",
   "execution_count": 4,
   "metadata": {},
   "outputs": [
    {
     "name": "stdout",
     "output_type": "stream",
     "text": [
      "1010\n"
     ]
    }
   ],
   "source": [
    "patient_list= [f for f in os.listdir(DICOM_DIR) if not f.startswith('.')]\n",
    "patient_list.sort()\n",
    "print(len(patient_list))"
   ]
  },
  {
   "cell_type": "code",
   "execution_count": 9,
   "metadata": {},
   "outputs": [
    {
     "data": {
      "text/plain": [
       "1    1002\n",
       "2       8\n",
       "dtype: int64"
      ]
     },
     "execution_count": 9,
     "metadata": {},
     "output_type": "execute_result"
    }
   ],
   "source": [
    "scan_counts = [pl.query(pl.Scan).filter(pl.Scan.patient_id == pid).count() for pid in patient_list]\n",
    "pd.Series(scan_counts).value_counts()"
   ]
  },
  {
   "cell_type": "markdown",
   "metadata": {},
   "source": [
    "## Load scan for one patient"
   ]
  },
  {
   "cell_type": "code",
   "execution_count": 26,
   "metadata": {},
   "outputs": [
    {
     "data": {
      "text/plain": [
       "'LIDC-IDRI-0078'"
      ]
     },
     "execution_count": 26,
     "metadata": {},
     "output_type": "execute_result"
    }
   ],
   "source": [
    "pid = patient_list[77]\n",
    "pid"
   ]
  },
  {
   "cell_type": "code",
   "execution_count": 27,
   "metadata": {},
   "outputs": [],
   "source": [
    "scan = pl.query(pl.Scan).filter(pl.Scan.patient_id == pid).first()"
   ]
  },
  {
   "cell_type": "code",
   "execution_count": 28,
   "metadata": {},
   "outputs": [
    {
     "name": "stdout",
     "output_type": "stream",
     "text": [
      "Patient ID: LIDC-IDRI-0078\n",
      "Number of Annotated Nodules: 4\n"
     ]
    }
   ],
   "source": [
    "nodules_annotation = scan.cluster_annotations()\n",
    "print(f\"Patient ID: {pid}\\nNumber of Annotated Nodules: {len(nodules_annotation)}\")"
   ]
  },
  {
   "cell_type": "code",
   "execution_count": 54,
   "metadata": {},
   "outputs": [
    {
     "data": {
      "text/plain": [
       "87"
      ]
     },
     "execution_count": 54,
     "metadata": {},
     "output_type": "execute_result"
    }
   ],
   "source": [
    "scan_path = Path(scan.get_path_to_dicom_files())\n",
    "# Note: directories contain files starting with '.' that are not readable by pydicom\n",
    "fnames = [fname for fname in os.listdir(scan_path) if fname.endswith('.dcm') and not fname.startswith('.')]\n",
    "len(fnames)"
   ]
  },
  {
   "cell_type": "code",
   "execution_count": 55,
   "metadata": {},
   "outputs": [
    {
     "data": {
      "text/plain": [
       "Dataset.file_meta -------------------------------\n",
       "(0002, 0000) File Meta Information Group Length  UL: 204\n",
       "(0002, 0001) File Meta Information Version       OB: b'\\x00\\x01'\n",
       "(0002, 0002) Media Storage SOP Class UID         UI: CT Image Storage\n",
       "(0002, 0003) Media Storage SOP Instance UID      UI: 1.3.6.1.4.1.14519.5.2.1.6279.6001.305457156046178667359366041284\n",
       "(0002, 0010) Transfer Syntax UID                 UI: Implicit VR Little Endian\n",
       "(0002, 0012) Implementation Class UID            UI: 1.3.6.1.4.1.22213.1.143\n",
       "(0002, 0013) Implementation Version Name         SH: '0.5'\n",
       "(0002, 0016) Source Application Entity Title     AE: 'POSDA'\n",
       "-------------------------------------------------\n",
       "(0008, 0008) Image Type                          CS: ['ORIGINAL', 'PRIMARY', 'AXIAL']\n",
       "(0008, 0016) SOP Class UID                       UI: CT Image Storage\n",
       "(0008, 0018) SOP Instance UID                    UI: 1.3.6.1.4.1.14519.5.2.1.6279.6001.305457156046178667359366041284\n",
       "(0008, 0020) Study Date                          DA: '20000101'\n",
       "(0008, 0021) Series Date                         DA: '20000101'\n",
       "(0008, 0022) Acquisition Date                    DA: '20000101'\n",
       "(0008, 0023) Content Date                        DA: '20000101'\n",
       "(0008, 0024) Overlay Date                        DA: '20000101'\n",
       "(0008, 0025) Curve Date                          DA: '20000101'\n",
       "(0008, 002a) Acquisition DateTime                DT: '20000101'\n",
       "(0008, 0030) Study Time                          TM: ''\n",
       "(0008, 0032) Acquisition Time                    TM: '102025.450'\n",
       "(0008, 0033) Content Time                        TM: '102026.450'\n",
       "(0008, 0050) Accession Number                    SH: ''\n",
       "(0008, 0060) Modality                            CS: 'CT'\n",
       "(0008, 0070) Manufacturer                        LO: 'TOSHIBA'\n",
       "(0008, 0090) Referring Physician's Name          PN: ''\n",
       "(0008, 1090) Manufacturer's Model Name           LO: 'Aquilion'\n",
       "(0010, 0010) Patient's Name                      PN: ''\n",
       "(0010, 0020) Patient ID                          LO: 'LIDC-IDRI-0078'\n",
       "(0010, 0030) Patient's Birth Date                DA: ''\n",
       "(0010, 0040) Patient's Sex                       CS: 'F'\n",
       "(0010, 1010) Patient's Age                       AS: '064Y'\n",
       "(0010, 2160) Ethnic Group                        SH: 'white-ns'\n",
       "(0010, 21c0) Pregnancy Status                    US: 4\n",
       "(0010, 21d0) Last Menstrual Date                 DA: '20000101'\n",
       "(0012, 0062) Patient Identity Removed            CS: 'YES'\n",
       "(0012, 0063) De-identification Method            LO: 'DCM:113100/113105/113107/113108/113109/113111'\n",
       "(0013, 0010) Private Creator                     LO: 'CTP'\n",
       "(0013, 1010) Private tag data                    UN: b'LIDC-IDRI '\n",
       "(0013, 1013) Private tag data                    UN: b'62796001'\n",
       "(0018, 0010) Contrast/Bolus Agent                LO: 'W/O_IV_CONTRAST'\n",
       "(0018, 0015) Body Part Examined                  CS: 'CHEST'\n",
       "(0018, 0022) Scan Options                        CS: 'HELICAL_CT'\n",
       "(0018, 0050) Slice Thickness                     DS: \"3.0\"\n",
       "(0018, 0060) KVP                                 DS: \"135.0\"\n",
       "(0018, 0090) Data Collection Diameter            DS: \"400.0\"\n",
       "(0018, 1020) Software Versions                   LO: 'V2.04ER001'\n",
       "(0018, 1100) Reconstruction Diameter             DS: \"332.812\"\n",
       "(0018, 1120) Gantry/Detector Tilt                DS: \"0.0\"\n",
       "(0018, 1130) Table Height                        DS: \"91.0\"\n",
       "(0018, 1140) Rotation Direction                  CS: 'CW'\n",
       "(0018, 1150) Exposure Time                       IS: \"500\"\n",
       "(0018, 1151) X-Ray Tube Current                  IS: \"260\"\n",
       "(0018, 1152) Exposure                            IS: \"130\"\n",
       "(0018, 1210) Convolution Kernel                  SH: 'FC01'\n",
       "(0018, 5100) Patient Position                    CS: 'FFS'\n",
       "(0020, 000d) Study Instance UID                  UI: 1.3.6.1.4.1.14519.5.2.1.6279.6001.339170810277323131167631068432\n",
       "(0020, 000e) Series Instance UID                 UI: 1.3.6.1.4.1.14519.5.2.1.6279.6001.303494235102183795724852353824\n",
       "(0020, 0010) Study ID                            SH: ''\n",
       "(0020, 0011) Series Number                       IS: \"3165\"\n",
       "(0020, 0012) Acquisition Number                  IS: \"3\"\n",
       "(0020, 0013) Instance Number                     IS: \"1\"\n",
       "(0020, 0020) Patient Orientation                 CS: ['L', 'P']\n",
       "(0020, 0032) Image Position (Patient)            DS: [-165.625000, -164.843700, 1661.500000]\n",
       "(0020, 0037) Image Orientation (Patient)         DS: [1.000000, 0.000000, 0.000000, 0.000000, 1.000000, 0.000000]\n",
       "(0020, 0052) Frame of Reference UID              UI: 1.3.6.1.4.1.14519.5.2.1.6279.6001.219968049217479018972734754830\n",
       "(0020, 1040) Position Reference Indicator        LO: ''\n",
       "(0020, 1041) Slice Location                      DS: \"59.0\"\n",
       "(0028, 0002) Samples per Pixel                   US: 1\n",
       "(0028, 0004) Photometric Interpretation          CS: 'MONOCHROME2'\n",
       "(0028, 0010) Rows                                US: 512\n",
       "(0028, 0011) Columns                             US: 512\n",
       "(0028, 0030) Pixel Spacing                       DS: [0.650, 0.650]\n",
       "(0028, 0100) Bits Allocated                      US: 16\n",
       "(0028, 0101) Bits Stored                         US: 16\n",
       "(0028, 0102) High Bit                            US: 15\n",
       "(0028, 0103) Pixel Representation                US: 1\n",
       "(0028, 0106) Smallest Image Pixel Value          SS: -2048\n",
       "(0028, 0107) Largest Image Pixel Value           SS: 6808\n",
       "(0028, 0303) Longitudinal Temporal Information M CS: 'MODIFIED'\n",
       "(0028, 1050) Window Center                       DS: \"-500.0\"\n",
       "(0028, 1051) Window Width                        DS: \"2000.0\"\n",
       "(0028, 1052) Rescale Intercept                   DS: \"0.0\"\n",
       "(0028, 1053) Rescale Slope                       DS: \"1.0\"\n",
       "(0032, 000a) Study Status ID                     CS: ''\n",
       "(0032, 1001) Scheduled Study Start Time          TM: ''\n",
       "(0032, 1060) Requested Procedure Description     LO: ''\n",
       "(0038, 0020) Admitting Date                      DA: '20000101'\n",
       "(0040, 0002) Scheduled Procedure Step Start Date DA: '20000101'\n",
       "(0040, 0003) Scheduled Procedure Step Start Time TM: ''\n",
       "(0040, 0004) Scheduled Procedure Step End Date   DA: '20000101'\n",
       "(0040, 0005) Scheduled Procedure Step End Time   TM: ''\n",
       "(0040, 0244) Performed Procedure Step Start Date DA: '20000101'\n",
       "(0040, 0245) Performed Procedure Step Start Time TM: ''\n",
       "(0040, 2016) Placer Order Number / Imaging Servi LO: ''\n",
       "(0040, 2017) Filler Order Number / Imaging Servi LO: ''\n",
       "(0040, a075) Verifying Observer Name             PN: 'Removed by CTP'\n",
       "(0040, a123) Person Name                         PN: 'Removed by CTP'\n",
       "(0070, 0084) Content Creator's Name              PN: ''\n",
       "(7fe0, 0010) Pixel Data                          OW: Array of 524288 elements"
      ]
     },
     "execution_count": 55,
     "metadata": {},
     "output_type": "execute_result"
    }
   ],
   "source": [
    "fname = fnames[0]\n",
    "img = dicom.dcmread(scan_path / fname)\n",
    "img."
   ]
  },
  {
   "cell_type": "code",
   "execution_count": null,
   "metadata": {},
   "outputs": [],
   "source": []
  }
 ],
 "metadata": {
  "kernelspec": {
   "display_name": "Python 3",
   "language": "python",
   "name": "python3"
  },
  "language_info": {
   "codemirror_mode": {
    "name": "ipython",
    "version": 3
   },
   "file_extension": ".py",
   "mimetype": "text/x-python",
   "name": "python",
   "nbconvert_exporter": "python",
   "pygments_lexer": "ipython3",
   "version": "3.8.5"
  },
  "toc": {
   "base_numbering": 1,
   "nav_menu": {},
   "number_sections": true,
   "sideBar": true,
   "skip_h1_title": true,
   "title_cell": "Table of Contents",
   "title_sidebar": "Contents",
   "toc_cell": false,
   "toc_position": {},
   "toc_section_display": true,
   "toc_window_display": false
  }
 },
 "nbformat": 4,
 "nbformat_minor": 4
}
