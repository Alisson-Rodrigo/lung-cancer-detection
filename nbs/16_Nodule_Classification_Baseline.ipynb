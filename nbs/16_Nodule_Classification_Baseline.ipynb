{
 "cells": [
  {
   "cell_type": "markdown",
   "id": "35a04767",
   "metadata": {},
   "source": [
    "# Train baseline model for nodule classification"
   ]
  },
  {
   "cell_type": "markdown",
   "id": "88f36f8c",
   "metadata": {},
   "source": [
    "## Setup environment"
   ]
  },
  {
   "cell_type": "markdown",
   "id": "95fed505",
   "metadata": {
    "heading_collapsed": true
   },
   "source": [
    "### [Optional]: Install dependencies"
   ]
  },
  {
   "cell_type": "markdown",
   "id": "f6b6b55c",
   "metadata": {
    "heading_collapsed": true
   },
   "source": [
    "### [Optional]: Download data"
   ]
  },
  {
   "cell_type": "markdown",
   "id": "120e202f",
   "metadata": {},
   "source": [
    "## Load modules and configuration"
   ]
  },
  {
   "cell_type": "markdown",
   "id": "c1b0cd6b",
   "metadata": {},
   "source": [
    "### Import modules"
   ]
  },
  {
   "cell_type": "markdown",
   "id": "b1d21b2c",
   "metadata": {},
   "source": [
    "### Load configuration file"
   ]
  },
  {
   "cell_type": "markdown",
   "id": "23751b8a",
   "metadata": {},
   "source": [
    "## Initialize datasets"
   ]
  },
  {
   "cell_type": "markdown",
   "id": "95de3d64",
   "metadata": {},
   "source": [
    "### Create data module"
   ]
  },
  {
   "cell_type": "markdown",
   "id": "6242b7df",
   "metadata": {},
   "source": [
    "### Preview datasets"
   ]
  },
  {
   "cell_type": "markdown",
   "id": "529edacb",
   "metadata": {},
   "source": [
    "## Initialize model"
   ]
  },
  {
   "cell_type": "markdown",
   "id": "501a3ee8",
   "metadata": {},
   "source": [
    "## Validation check: overfit one batch"
   ]
  },
  {
   "cell_type": "markdown",
   "id": "5fc6be2a",
   "metadata": {},
   "source": [
    "## Run experiment"
   ]
  },
  {
   "cell_type": "markdown",
   "id": "edc37c7e",
   "metadata": {},
   "source": [
    "### Configure experiment"
   ]
  },
  {
   "cell_type": "markdown",
   "id": "7a5a3082",
   "metadata": {},
   "source": [
    "### Find optimal batch size and learning rate"
   ]
  },
  {
   "cell_type": "markdown",
   "id": "b9cba93d",
   "metadata": {},
   "source": [
    "### Train model"
   ]
  },
  {
   "cell_type": "markdown",
   "id": "8979df4f",
   "metadata": {},
   "source": [
    "## Evaluate trained model"
   ]
  },
  {
   "cell_type": "markdown",
   "id": "dc28f0f2",
   "metadata": {},
   "source": [
    "### Compute validation loss"
   ]
  },
  {
   "cell_type": "markdown",
   "id": "23486f2f",
   "metadata": {},
   "source": [
    "### Sort examples by loss"
   ]
  },
  {
   "cell_type": "markdown",
   "id": "b9ef5f4b",
   "metadata": {},
   "source": [
    "## Interpret model"
   ]
  },
  {
   "cell_type": "code",
   "execution_count": null,
   "id": "67d23e19",
   "metadata": {},
   "outputs": [],
   "source": []
  }
 ],
 "metadata": {
  "kernelspec": {
   "display_name": "Python 3",
   "language": "python",
   "name": "python3"
  },
  "language_info": {
   "codemirror_mode": {
    "name": "ipython",
    "version": 3
   },
   "file_extension": ".py",
   "mimetype": "text/x-python",
   "name": "python",
   "nbconvert_exporter": "python",
   "pygments_lexer": "ipython3",
   "version": "3.8.5"
  },
  "toc": {
   "base_numbering": 1,
   "nav_menu": {},
   "number_sections": true,
   "sideBar": true,
   "skip_h1_title": true,
   "title_cell": "Table of Contents",
   "title_sidebar": "Contents",
   "toc_cell": false,
   "toc_position": {},
   "toc_section_display": true,
   "toc_window_display": false
  }
 },
 "nbformat": 4,
 "nbformat_minor": 5
}
