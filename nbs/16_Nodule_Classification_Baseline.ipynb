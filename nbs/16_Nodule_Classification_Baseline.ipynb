{
 "cells": [
  {
   "cell_type": "markdown",
   "id": "34cdf64f",
   "metadata": {},
   "source": [
    "# Train baseline model for nodule classification"
   ]
  },
  {
   "cell_type": "markdown",
   "id": "b617d683",
   "metadata": {},
   "source": [
    "## Setup environment"
   ]
  },
  {
   "cell_type": "markdown",
   "id": "d2e67761",
   "metadata": {},
   "source": [
    "### [Optional]: Install dependencies"
   ]
  },
  {
   "cell_type": "code",
   "execution_count": null,
   "id": "25d75dbf",
   "metadata": {},
   "outputs": [],
   "source": [
    "!pip install \"monai[nibabel,skimage,pillow,tqdm]\" pytorch_lightning wandb"
   ]
  },
  {
   "cell_type": "markdown",
   "id": "329ff4d4",
   "metadata": {},
   "source": [
    "### [Optional]: Download data"
   ]
  },
  {
   "cell_type": "code",
   "execution_count": null,
   "id": "85d02e0e",
   "metadata": {},
   "outputs": [],
   "source": [
    "!mkdir -p ../data/full/processed/images ../data/full/processed/masks ../data/full/cache"
   ]
  },
  {
   "cell_type": "code",
   "execution_count": null,
   "id": "a7f380f3",
   "metadata": {},
   "outputs": [],
   "source": [
    "!gsutil cp gs://lung-cancer-detection/lidc-idri/processed/nodules.zip ../data/full/processed"
   ]
  },
  {
   "cell_type": "code",
   "execution_count": null,
   "id": "e314abb8",
   "metadata": {},
   "outputs": [],
   "source": [
    "!gsutil cp gs://lung-cancer-detection/lidc-idri/processed/meta.zip ../data/full/processed"
   ]
  },
  {
   "cell_type": "code",
   "execution_count": null,
   "id": "fa094cc4",
   "metadata": {},
   "outputs": [],
   "source": [
    "!gsutil cp gs://lung-cancer-detection/lidc-idri/splits.zip ../data/full/"
   ]
  },
  {
   "cell_type": "code",
   "execution_count": null,
   "id": "0a948e85",
   "metadata": {},
   "outputs": [],
   "source": [
    "!unzip ../data/full/processed/nodules.zip -d ../data/full/processed"
   ]
  },
  {
   "cell_type": "code",
   "execution_count": null,
   "id": "f4c8fc30",
   "metadata": {},
   "outputs": [],
   "source": [
    "!unzip ../data/full/processed/meta.zip -d ../data/full/processed"
   ]
  },
  {
   "cell_type": "code",
   "execution_count": null,
   "id": "a4e42e82",
   "metadata": {},
   "outputs": [],
   "source": [
    "!unzip ../data/full/splits.zip -d ../data/full"
   ]
  },
  {
   "cell_type": "markdown",
   "id": "7ec5756d",
   "metadata": {},
   "source": [
    "### [Optional]: Enable module import"
   ]
  },
  {
   "cell_type": "code",
   "execution_count": null,
   "id": "c97a001f",
   "metadata": {},
   "outputs": [],
   "source": [
    "!ln -s ./../lung_cancer_detection"
   ]
  },
  {
   "cell_type": "markdown",
   "id": "bca82372",
   "metadata": {},
   "source": [
    "## Load modules and configuration"
   ]
  },
  {
   "cell_type": "markdown",
   "id": "7624a4a9",
   "metadata": {},
   "source": [
    "### Import modules"
   ]
  },
  {
   "cell_type": "code",
   "execution_count": 1,
   "id": "0051a351",
   "metadata": {},
   "outputs": [],
   "source": [
    "from pathlib import Path\n",
    "\n",
    "import numpy as np\n",
    "import wandb\n",
    "import torch\n",
    "from monai.networks.nets import DenseNet\n",
    "from pytorch_lightning import Trainer\n",
    "from pytorch_lightning.callbacks import EarlyStopping, ModelCheckpoint\n",
    "from pytorch_lightning.loggers import WandbLogger\n",
    "\n",
    "from lung_cancer_detection.data.nodule import ClassificationDataModule\n",
    "from lung_cancer_detection.models.classification import NoduleClassificationModule\n",
    "from lung_cancer_detection.utils import load_config, load_json, preview_dataset"
   ]
  },
  {
   "cell_type": "markdown",
   "id": "8c8126cf",
   "metadata": {},
   "source": [
    "### Load configuration file"
   ]
  },
  {
   "cell_type": "code",
   "execution_count": 2,
   "id": "ff7f5535",
   "metadata": {},
   "outputs": [
    {
     "data": {
      "text/plain": [
       "True"
      ]
     },
     "execution_count": 2,
     "metadata": {},
     "output_type": "execute_result"
    }
   ],
   "source": [
    "cp = Path(\"../configs/cloud.yaml\").absolute()\n",
    "cp.exists()"
   ]
  },
  {
   "cell_type": "code",
   "execution_count": 3,
   "id": "20cb8ae3",
   "metadata": {},
   "outputs": [
    {
     "data": {
      "text/plain": [
       "{'random_seed': 47,\n",
       " 'wandb': {'offline': False, 'project': 'lung-cancer-detection'},\n",
       " 'artifacts': {'data': {'name': 'lidc-idri-raw',\n",
       "   'version': 'v1',\n",
       "   'type': 'dataset',\n",
       "   'description': 'Zipped dataset of all chest CT scans, masks and nodule volumes in npy format, including scan and nodule metadata. Updated with new volume size for nodules.'},\n",
       "  'train': {'name': 'lidc-train',\n",
       "   'version': 'v1',\n",
       "   'type': 'dataset',\n",
       "   'description': 'List of patient IDs included in the training set'},\n",
       "  'valid': {'name': 'lidc-valid',\n",
       "   'version': 'v1',\n",
       "   'type': 'dataset',\n",
       "   'description': 'List of patient IDs included in the validation set'},\n",
       "  'class_model': {'name': 'nodule-classification-model',\n",
       "   'version': 'v0',\n",
       "   'type': 'model',\n",
       "   'description': 'Basic DenseNet for classifying lung nodules regarding their malignancy'},\n",
       "  'seg_model': {'name': 'nodule-segmentation-model',\n",
       "   'version': 'v1',\n",
       "   'type': 'model',\n",
       "   'description': 'Basic UNet for segmenting lung nodules in chest CTs'}},\n",
       " 'data': {'data_dir': '../data/full/processed/',\n",
       "  'split_dir': '../data/full/splits/',\n",
       "  'cache_dir': '../data/full/cache',\n",
       "  'sample': False,\n",
       "  'batch_size': 128,\n",
       "  'val_split': 0.2,\n",
       "  'min_anns': 1},\n",
       " 'seg_model': {'features': [32, 32, 64, 128, 256, 32],\n",
       "  'dropout': 0.0,\n",
       "  'lr': 0.0001,\n",
       "  'norm': ['instance', {'affine': True}]},\n",
       " 'class_model': {'num_classes': 2,\n",
       "  'spatial_dims': 3,\n",
       "  'in_channels': 1,\n",
       "  'out_channels': 2,\n",
       "  'lr': 0.0001},\n",
       " 'experiment': {'max_epochs': 100,\n",
       "  'max_time': {'hours': 12},\n",
       "  'auto_lr_find': True,\n",
       "  'gpus': -1,\n",
       "  'auto_select_gpus': True,\n",
       "  'auto_scale_batch_size': False}}"
      ]
     },
     "execution_count": 3,
     "metadata": {},
     "output_type": "execute_result"
    }
   ],
   "source": [
    "config = load_config(cp)\n",
    "config"
   ]
  },
  {
   "cell_type": "markdown",
   "id": "3b42ff75",
   "metadata": {},
   "source": [
    "## Explore datasets"
   ]
  },
  {
   "cell_type": "code",
   "execution_count": 4,
   "id": "52c330e3",
   "metadata": {},
   "outputs": [],
   "source": [
    "splits = [\n",
    "    load_json(Path(config[\"data\"][\"split_dir\"])/\"train.json\"), \n",
    "    load_json(Path(config[\"data\"][\"split_dir\"])/\"valid.json\")\n",
    "]\n",
    "label_mapping = ([1,2,3,4,5], [0,0,0,1,1])"
   ]
  },
  {
   "cell_type": "code",
   "execution_count": 5,
   "id": "5644a81f",
   "metadata": {},
   "outputs": [],
   "source": [
    "dm = ClassificationDataModule(\n",
    "    data_dir=Path(config[\"data\"][\"data_dir\"]),\n",
    "    cache_dir=(Path()/\"../data/cache/\").absolute(),\n",
    "    splits=splits,\n",
    "    min_anns=config[\"data\"][\"min_anns\"],\n",
    "    exclude_labels=[],\n",
    "    label_mapping=label_mapping,\n",
    "    batch_size=config[\"data\"][\"batch_size\"]\n",
    ")"
   ]
  },
  {
   "cell_type": "code",
   "execution_count": 6,
   "id": "edbb6e69",
   "metadata": {},
   "outputs": [],
   "source": [
    "dm.setup()"
   ]
  },
  {
   "cell_type": "code",
   "execution_count": 7,
   "id": "c58a75bc",
   "metadata": {},
   "outputs": [
    {
     "name": "stdout",
     "output_type": "stream",
     "text": [
      "Number of training examples: 2155\n",
      "Number of validation examples: 470\n"
     ]
    }
   ],
   "source": [
    "print(f\"Number of training examples: {len(dm.train_ds)}\")\n",
    "print(f\"Number of validation examples: {len(dm.val_ds)}\")"
   ]
  },
  {
   "cell_type": "code",
   "execution_count": 8,
   "id": "c4ba0d3f",
   "metadata": {},
   "outputs": [],
   "source": [
    "train_labels = np.array([image[\"label\"].numpy() for image in dm.train_ds])\n",
    "valid_labels = np.array([image[\"label\"].numpy() for image in dm.val_ds])"
   ]
  },
  {
   "cell_type": "code",
   "execution_count": 9,
   "id": "78996aeb",
   "metadata": {},
   "outputs": [
    {
     "name": "stdout",
     "output_type": "stream",
     "text": [
      "Percentage of malignant training nodules: 0.2158\n",
      "Percentage of malignant training nodules: 0.2234\n"
     ]
    }
   ],
   "source": [
    "print(f\"Percentage of malignant training nodules: {np.mean(train_labels):.4f}\")\n",
    "print(f\"Percentage of malignant training nodules: {np.mean(valid_labels):.4f}\")"
   ]
  },
  {
   "cell_type": "markdown",
   "id": "de3df509",
   "metadata": {},
   "source": [
    "## Validation check: overfit one batch"
   ]
  },
  {
   "cell_type": "code",
   "execution_count": 10,
   "id": "9c738e6c",
   "metadata": {},
   "outputs": [],
   "source": [
    "dm = ClassificationDataModule(\n",
    "    data_dir=Path(config[\"data\"][\"data_dir\"]),\n",
    "    cache_dir=(Path()/\"../data/cache/\").absolute(),\n",
    "    splits=splits,\n",
    "    min_anns=config[\"data\"][\"min_anns\"],\n",
    "    exclude_labels=[],\n",
    "    label_mapping=label_mapping,\n",
    "    batch_size=config[\"data\"][\"batch_size\"]\n",
    ")"
   ]
  },
  {
   "cell_type": "code",
   "execution_count": 11,
   "id": "05408e62",
   "metadata": {},
   "outputs": [],
   "source": [
    "net = DenseNet(\n",
    "    spatial_dims=config[\"class_model\"][\"spatial_dims\"],\n",
    "    in_channels=config[\"class_model\"][\"in_channels\"],\n",
    "    out_channels=config[\"class_model\"][\"out_channels\"],\n",
    ")"
   ]
  },
  {
   "cell_type": "code",
   "execution_count": 12,
   "id": "b347b663",
   "metadata": {},
   "outputs": [],
   "source": [
    "model = NoduleClassificationModule(net, num_classes=config[\"class_model\"][\"num_classes\"])"
   ]
  },
  {
   "cell_type": "code",
   "execution_count": 13,
   "id": "2989e2ad",
   "metadata": {},
   "outputs": [
    {
     "name": "stderr",
     "output_type": "stream",
     "text": [
      "GPU available: True, used: True\n",
      "TPU available: False, using: 0 TPU cores\n"
     ]
    }
   ],
   "source": [
    "trainer = Trainer(gpus=1, overfit_batches=1, max_epochs=20)"
   ]
  },
  {
   "cell_type": "code",
   "execution_count": 14,
   "id": "96590709",
   "metadata": {},
   "outputs": [
    {
     "name": "stderr",
     "output_type": "stream",
     "text": [
      "LOCAL_RANK: 0 - CUDA_VISIBLE_DEVICES: [0]\n",
      "\n",
      "  | Name      | Type             | Params\n",
      "-----------------------------------------------\n",
      "0 | model     | DenseNet         | 11.2 M\n",
      "1 | loss      | CrossEntropyLoss | 0     \n",
      "2 | train_acc | Accuracy         | 0     \n",
      "3 | val_acc   | Accuracy         | 0     \n",
      "-----------------------------------------------\n",
      "11.2 M    Trainable params\n",
      "0         Non-trainable params\n",
      "11.2 M    Total params\n",
      "44.979    Total estimated model params size (MB)\n"
     ]
    },
    {
     "data": {
      "application/vnd.jupyter.widget-view+json": {
       "model_id": "",
       "version_major": 2,
       "version_minor": 0
      },
      "text/plain": [
       "Validation sanity check: 0it [00:00, ?it/s]"
      ]
     },
     "metadata": {},
     "output_type": "display_data"
    },
    {
     "name": "stderr",
     "output_type": "stream",
     "text": [
      "/opt/conda/lib/python3.7/site-packages/pytorch_lightning/trainer/data_loading.py:342: UserWarning: You requested to overfit but enabled val/test dataloader shuffling. We are turning it off for you.\n",
      "  'You requested to overfit but enabled val/test dataloader shuffling.'\n",
      "/opt/conda/lib/python3.7/site-packages/pytorch_lightning/trainer/data_loading.py:240: UserWarning: You requested to overfit but enabled training dataloader shuffling. We are turning it off for you.\n",
      "  'You requested to overfit but enabled training dataloader shuffling.'\n"
     ]
    },
    {
     "data": {
      "application/vnd.jupyter.widget-view+json": {
       "model_id": "1c2541a9beb34029923b32edbda99f2f",
       "version_major": 2,
       "version_minor": 0
      },
      "text/plain": [
       "Training: 0it [00:00, ?it/s]"
      ]
     },
     "metadata": {},
     "output_type": "display_data"
    },
    {
     "data": {
      "application/vnd.jupyter.widget-view+json": {
       "model_id": "",
       "version_major": 2,
       "version_minor": 0
      },
      "text/plain": [
       "Validating: 0it [00:00, ?it/s]"
      ]
     },
     "metadata": {},
     "output_type": "display_data"
    },
    {
     "name": "stderr",
     "output_type": "stream",
     "text": [
      "/opt/conda/lib/python3.7/site-packages/pytorch_lightning/callbacks/model_checkpoint.py:611: LightningDeprecationWarning: Relying on `self.log('val_loss', ...)` to set the ModelCheckpoint monitor is deprecated in v1.2 and will be removed in v1.4. Please, create your own `mc = ModelCheckpoint(monitor='your_monitor')` and use it as `Trainer(callbacks=[mc])`.\n",
      "  \"Relying on `self.log('val_loss', ...)` to set the ModelCheckpoint monitor is deprecated in v1.2\"\n"
     ]
    },
    {
     "data": {
      "application/vnd.jupyter.widget-view+json": {
       "model_id": "",
       "version_major": 2,
       "version_minor": 0
      },
      "text/plain": [
       "Validating: 0it [00:00, ?it/s]"
      ]
     },
     "metadata": {},
     "output_type": "display_data"
    },
    {
     "data": {
      "application/vnd.jupyter.widget-view+json": {
       "model_id": "",
       "version_major": 2,
       "version_minor": 0
      },
      "text/plain": [
       "Validating: 0it [00:00, ?it/s]"
      ]
     },
     "metadata": {},
     "output_type": "display_data"
    },
    {
     "data": {
      "application/vnd.jupyter.widget-view+json": {
       "model_id": "",
       "version_major": 2,
       "version_minor": 0
      },
      "text/plain": [
       "Validating: 0it [00:00, ?it/s]"
      ]
     },
     "metadata": {},
     "output_type": "display_data"
    },
    {
     "data": {
      "application/vnd.jupyter.widget-view+json": {
       "model_id": "",
       "version_major": 2,
       "version_minor": 0
      },
      "text/plain": [
       "Validating: 0it [00:00, ?it/s]"
      ]
     },
     "metadata": {},
     "output_type": "display_data"
    },
    {
     "data": {
      "application/vnd.jupyter.widget-view+json": {
       "model_id": "",
       "version_major": 2,
       "version_minor": 0
      },
      "text/plain": [
       "Validating: 0it [00:00, ?it/s]"
      ]
     },
     "metadata": {},
     "output_type": "display_data"
    },
    {
     "data": {
      "application/vnd.jupyter.widget-view+json": {
       "model_id": "",
       "version_major": 2,
       "version_minor": 0
      },
      "text/plain": [
       "Validating: 0it [00:00, ?it/s]"
      ]
     },
     "metadata": {},
     "output_type": "display_data"
    },
    {
     "data": {
      "application/vnd.jupyter.widget-view+json": {
       "model_id": "",
       "version_major": 2,
       "version_minor": 0
      },
      "text/plain": [
       "Validating: 0it [00:00, ?it/s]"
      ]
     },
     "metadata": {},
     "output_type": "display_data"
    },
    {
     "data": {
      "application/vnd.jupyter.widget-view+json": {
       "model_id": "",
       "version_major": 2,
       "version_minor": 0
      },
      "text/plain": [
       "Validating: 0it [00:00, ?it/s]"
      ]
     },
     "metadata": {},
     "output_type": "display_data"
    },
    {
     "data": {
      "application/vnd.jupyter.widget-view+json": {
       "model_id": "",
       "version_major": 2,
       "version_minor": 0
      },
      "text/plain": [
       "Validating: 0it [00:00, ?it/s]"
      ]
     },
     "metadata": {},
     "output_type": "display_data"
    },
    {
     "data": {
      "application/vnd.jupyter.widget-view+json": {
       "model_id": "",
       "version_major": 2,
       "version_minor": 0
      },
      "text/plain": [
       "Validating: 0it [00:00, ?it/s]"
      ]
     },
     "metadata": {},
     "output_type": "display_data"
    },
    {
     "data": {
      "application/vnd.jupyter.widget-view+json": {
       "model_id": "",
       "version_major": 2,
       "version_minor": 0
      },
      "text/plain": [
       "Validating: 0it [00:00, ?it/s]"
      ]
     },
     "metadata": {},
     "output_type": "display_data"
    },
    {
     "data": {
      "application/vnd.jupyter.widget-view+json": {
       "model_id": "",
       "version_major": 2,
       "version_minor": 0
      },
      "text/plain": [
       "Validating: 0it [00:00, ?it/s]"
      ]
     },
     "metadata": {},
     "output_type": "display_data"
    },
    {
     "data": {
      "application/vnd.jupyter.widget-view+json": {
       "model_id": "",
       "version_major": 2,
       "version_minor": 0
      },
      "text/plain": [
       "Validating: 0it [00:00, ?it/s]"
      ]
     },
     "metadata": {},
     "output_type": "display_data"
    },
    {
     "data": {
      "application/vnd.jupyter.widget-view+json": {
       "model_id": "",
       "version_major": 2,
       "version_minor": 0
      },
      "text/plain": [
       "Validating: 0it [00:00, ?it/s]"
      ]
     },
     "metadata": {},
     "output_type": "display_data"
    },
    {
     "data": {
      "application/vnd.jupyter.widget-view+json": {
       "model_id": "",
       "version_major": 2,
       "version_minor": 0
      },
      "text/plain": [
       "Validating: 0it [00:00, ?it/s]"
      ]
     },
     "metadata": {},
     "output_type": "display_data"
    },
    {
     "data": {
      "application/vnd.jupyter.widget-view+json": {
       "model_id": "",
       "version_major": 2,
       "version_minor": 0
      },
      "text/plain": [
       "Validating: 0it [00:00, ?it/s]"
      ]
     },
     "metadata": {},
     "output_type": "display_data"
    },
    {
     "data": {
      "application/vnd.jupyter.widget-view+json": {
       "model_id": "",
       "version_major": 2,
       "version_minor": 0
      },
      "text/plain": [
       "Validating: 0it [00:00, ?it/s]"
      ]
     },
     "metadata": {},
     "output_type": "display_data"
    },
    {
     "data": {
      "application/vnd.jupyter.widget-view+json": {
       "model_id": "",
       "version_major": 2,
       "version_minor": 0
      },
      "text/plain": [
       "Validating: 0it [00:00, ?it/s]"
      ]
     },
     "metadata": {},
     "output_type": "display_data"
    },
    {
     "data": {
      "application/vnd.jupyter.widget-view+json": {
       "model_id": "",
       "version_major": 2,
       "version_minor": 0
      },
      "text/plain": [
       "Validating: 0it [00:00, ?it/s]"
      ]
     },
     "metadata": {},
     "output_type": "display_data"
    }
   ],
   "source": [
    "trainer.fit(model, datamodule=dm)"
   ]
  },
  {
   "cell_type": "markdown",
   "id": "42710e07",
   "metadata": {},
   "source": [
    "## Run experiment"
   ]
  },
  {
   "cell_type": "markdown",
   "id": "d557460a",
   "metadata": {},
   "source": [
    "### Configure experiment"
   ]
  },
  {
   "cell_type": "code",
   "execution_count": 15,
   "id": "11722b1d",
   "metadata": {},
   "outputs": [],
   "source": [
    "dm = ClassificationDataModule(\n",
    "    data_dir=Path(config[\"data\"][\"data_dir\"]),\n",
    "    cache_dir=(Path()/\"../data/cache/\").absolute(),\n",
    "    splits=splits,\n",
    "    min_anns=config[\"data\"][\"min_anns\"],\n",
    "    exclude_labels=[],\n",
    "    label_mapping=label_mapping,\n",
    "    batch_size=config[\"data\"][\"batch_size\"]\n",
    ")"
   ]
  },
  {
   "cell_type": "code",
   "execution_count": 16,
   "id": "43056854",
   "metadata": {},
   "outputs": [],
   "source": [
    "net = DenseNet(\n",
    "    spatial_dims=config[\"class_model\"][\"spatial_dims\"],\n",
    "    in_channels=config[\"class_model\"][\"in_channels\"],\n",
    "    out_channels=config[\"class_model\"][\"out_channels\"],\n",
    ")\n",
    "model = NoduleClassificationModule(net, num_classes=config[\"class_model\"][\"num_classes\"], lr=1e-5)"
   ]
  },
  {
   "cell_type": "code",
   "execution_count": 17,
   "id": "81d5619a",
   "metadata": {},
   "outputs": [
    {
     "name": "stderr",
     "output_type": "stream",
     "text": [
      "\u001b[34m\u001b[1mwandb\u001b[0m: Currently logged in as: \u001b[33mfelixpeters\u001b[0m (use `wandb login --relogin` to force relogin)\n"
     ]
    },
    {
     "data": {
      "text/plain": [
       "True"
      ]
     },
     "execution_count": 17,
     "metadata": {},
     "output_type": "execute_result"
    }
   ],
   "source": [
    "wandb.login()"
   ]
  },
  {
   "cell_type": "code",
   "execution_count": 18,
   "id": "456d0f0e",
   "metadata": {},
   "outputs": [],
   "source": [
    "logger = WandbLogger(project=config[\"wandb\"][\"project\"], job_type=\"training\")"
   ]
  },
  {
   "cell_type": "code",
   "execution_count": 19,
   "id": "836a0ac8",
   "metadata": {},
   "outputs": [],
   "source": [
    "es = EarlyStopping(monitor=\"val_loss\", verbose=True)\n",
    "mc = ModelCheckpoint(monitor=\"val_loss\", filename=\"{epoch}-{step}-{val_loss:.4f}-{val_acc:.4f}\", verbose=True, save_top_k=1)\n",
    "callbacks = [es, mc]"
   ]
  },
  {
   "cell_type": "code",
   "execution_count": 20,
   "id": "0df01aa1",
   "metadata": {},
   "outputs": [
    {
     "name": "stderr",
     "output_type": "stream",
     "text": [
      "GPU available: True, used: True\n",
      "TPU available: False, using: 0 TPU cores\n"
     ]
    }
   ],
   "source": [
    "trainer = Trainer(\n",
    "    logger=logger,\n",
    "    callbacks=callbacks,\n",
    "    **config[\"experiment\"]\n",
    ")"
   ]
  },
  {
   "cell_type": "code",
   "execution_count": 21,
   "id": "7a56718b",
   "metadata": {},
   "outputs": [
    {
     "data": {
      "text/html": [
       "\n",
       "                Tracking run with wandb version 0.10.33<br/>\n",
       "                Syncing run <strong style=\"color:#cdcd00\">azure-blaze-51</strong> to <a href=\"https://wandb.ai\" target=\"_blank\">Weights & Biases</a> <a href=\"https://docs.wandb.com/integrations/jupyter.html\" target=\"_blank\">(Documentation)</a>.<br/>\n",
       "                Project page: <a href=\"https://wandb.ai/felixpeters/lung-cancer-detection\" target=\"_blank\">https://wandb.ai/felixpeters/lung-cancer-detection</a><br/>\n",
       "                Run page: <a href=\"https://wandb.ai/felixpeters/lung-cancer-detection/runs/2qwdlv1t\" target=\"_blank\">https://wandb.ai/felixpeters/lung-cancer-detection/runs/2qwdlv1t</a><br/>\n",
       "                Run data is saved locally in <code>/home/jupyter/lung-cancer-detection/nbs/wandb/run-20210709_113857-2qwdlv1t</code><br/><br/>\n",
       "            "
      ],
      "text/plain": [
       "<IPython.core.display.HTML object>"
      ]
     },
     "metadata": {},
     "output_type": "display_data"
    },
    {
     "data": {
      "text/plain": [
       "<Artifact QXJ0aWZhY3Q6NDIzMjE4OA==>"
      ]
     },
     "execution_count": 21,
     "metadata": {},
     "output_type": "execute_result"
    }
   ],
   "source": [
    "trainer.logger.experiment.use_artifact(config[\"artifacts\"][\"train\"][\"name\"] + \":\" + config[\"artifacts\"][\"train\"][\"version\"])\n",
    "trainer.logger.experiment.use_artifact(config[\"artifacts\"][\"valid\"][\"name\"] + \":\" + config[\"artifacts\"][\"valid\"][\"version\"])"
   ]
  },
  {
   "cell_type": "markdown",
   "id": "6fb91a22",
   "metadata": {},
   "source": [
    "### Train model"
   ]
  },
  {
   "cell_type": "code",
   "execution_count": 22,
   "id": "ab430214",
   "metadata": {},
   "outputs": [
    {
     "name": "stderr",
     "output_type": "stream",
     "text": [
      "LOCAL_RANK: 0 - CUDA_VISIBLE_DEVICES: [0]\n",
      "\n",
      "  | Name      | Type             | Params\n",
      "-----------------------------------------------\n",
      "0 | model     | DenseNet         | 11.2 M\n",
      "1 | loss      | CrossEntropyLoss | 0     \n",
      "2 | train_acc | Accuracy         | 0     \n",
      "3 | val_acc   | Accuracy         | 0     \n",
      "-----------------------------------------------\n",
      "11.2 M    Trainable params\n",
      "0         Non-trainable params\n",
      "11.2 M    Total params\n",
      "44.979    Total estimated model params size (MB)\n"
     ]
    },
    {
     "data": {
      "application/vnd.jupyter.widget-view+json": {
       "model_id": "",
       "version_major": 2,
       "version_minor": 0
      },
      "text/plain": [
       "Validation sanity check: 0it [00:00, ?it/s]"
      ]
     },
     "metadata": {},
     "output_type": "display_data"
    },
    {
     "name": "stderr",
     "output_type": "stream",
     "text": [
      "/opt/conda/lib/python3.7/site-packages/pytorch_lightning/trainer/data_loading.py:349: UserWarning: Your val_dataloader has `shuffle=True`, it is best practice to turn this off for val/test/predict dataloaders.\n",
      "  f'Your {mode}_dataloader has `shuffle=True`, it is best practice to turn'\n"
     ]
    },
    {
     "data": {
      "application/vnd.jupyter.widget-view+json": {
       "model_id": "ea47160ac94c4f2c9c913d32f2f55eef",
       "version_major": 2,
       "version_minor": 0
      },
      "text/plain": [
       "Training: 0it [00:00, ?it/s]"
      ]
     },
     "metadata": {},
     "output_type": "display_data"
    },
    {
     "name": "stderr",
     "output_type": "stream",
     "text": [
      "/opt/conda/lib/python3.7/site-packages/pytorch_lightning/trainer/callback_hook.py:101: LightningDeprecationWarning: The signature of `Callback.on_train_epoch_end` has changed in v1.3. `outputs` parameter has been removed. Support for the old signature will be removed in v1.5\n",
      "  \"The signature of `Callback.on_train_epoch_end` has changed in v1.3.\"\n"
     ]
    },
    {
     "data": {
      "application/vnd.jupyter.widget-view+json": {
       "model_id": "",
       "version_major": 2,
       "version_minor": 0
      },
      "text/plain": [
       "Validating: 0it [00:00, ?it/s]"
      ]
     },
     "metadata": {},
     "output_type": "display_data"
    },
    {
     "name": "stderr",
     "output_type": "stream",
     "text": [
      "Metric val_loss improved. New best score: 0.684\n",
      "Epoch 0, global step 16: val_loss reached 0.68355 (best 0.68355), saving model to \"/home/jupyter/lung-cancer-detection/nbs/wandb/run-20210709_113857-2qwdlv1t/files/lung-cancer-detection/2qwdlv1t/checkpoints/epoch=0-step=16-val_loss=0.6836-val_acc=0.5596.ckpt\" as top 1\n"
     ]
    },
    {
     "data": {
      "application/vnd.jupyter.widget-view+json": {
       "model_id": "",
       "version_major": 2,
       "version_minor": 0
      },
      "text/plain": [
       "Validating: 0it [00:00, ?it/s]"
      ]
     },
     "metadata": {},
     "output_type": "display_data"
    },
    {
     "name": "stderr",
     "output_type": "stream",
     "text": [
      "Metric val_loss improved by 0.007 >= min_delta = 0.0. New best score: 0.677\n",
      "Epoch 1, global step 33: val_loss reached 0.67685 (best 0.67685), saving model to \"/home/jupyter/lung-cancer-detection/nbs/wandb/run-20210709_113857-2qwdlv1t/files/lung-cancer-detection/2qwdlv1t/checkpoints/epoch=1-step=33-val_loss=0.6769-val_acc=0.5681.ckpt\" as top 1\n"
     ]
    },
    {
     "data": {
      "application/vnd.jupyter.widget-view+json": {
       "model_id": "",
       "version_major": 2,
       "version_minor": 0
      },
      "text/plain": [
       "Validating: 0it [00:00, ?it/s]"
      ]
     },
     "metadata": {},
     "output_type": "display_data"
    },
    {
     "name": "stderr",
     "output_type": "stream",
     "text": [
      "Metric val_loss improved by 0.061 >= min_delta = 0.0. New best score: 0.616\n",
      "Epoch 2, global step 50: val_loss reached 0.61609 (best 0.61609), saving model to \"/home/jupyter/lung-cancer-detection/nbs/wandb/run-20210709_113857-2qwdlv1t/files/lung-cancer-detection/2qwdlv1t/checkpoints/epoch=2-step=50-val_loss=0.6161-val_acc=0.7340.ckpt\" as top 1\n"
     ]
    },
    {
     "data": {
      "application/vnd.jupyter.widget-view+json": {
       "model_id": "",
       "version_major": 2,
       "version_minor": 0
      },
      "text/plain": [
       "Validating: 0it [00:00, ?it/s]"
      ]
     },
     "metadata": {},
     "output_type": "display_data"
    },
    {
     "name": "stderr",
     "output_type": "stream",
     "text": [
      "Metric val_loss improved by 0.028 >= min_delta = 0.0. New best score: 0.588\n",
      "Epoch 3, global step 67: val_loss reached 0.58774 (best 0.58774), saving model to \"/home/jupyter/lung-cancer-detection/nbs/wandb/run-20210709_113857-2qwdlv1t/files/lung-cancer-detection/2qwdlv1t/checkpoints/epoch=3-step=67-val_loss=0.5877-val_acc=0.7489.ckpt\" as top 1\n"
     ]
    },
    {
     "data": {
      "application/vnd.jupyter.widget-view+json": {
       "model_id": "",
       "version_major": 2,
       "version_minor": 0
      },
      "text/plain": [
       "Validating: 0it [00:00, ?it/s]"
      ]
     },
     "metadata": {},
     "output_type": "display_data"
    },
    {
     "name": "stderr",
     "output_type": "stream",
     "text": [
      "Metric val_loss improved by 0.022 >= min_delta = 0.0. New best score: 0.566\n",
      "Epoch 4, global step 84: val_loss reached 0.56614 (best 0.56614), saving model to \"/home/jupyter/lung-cancer-detection/nbs/wandb/run-20210709_113857-2qwdlv1t/files/lung-cancer-detection/2qwdlv1t/checkpoints/epoch=4-step=84-val_loss=0.5661-val_acc=0.7638.ckpt\" as top 1\n"
     ]
    },
    {
     "data": {
      "application/vnd.jupyter.widget-view+json": {
       "model_id": "",
       "version_major": 2,
       "version_minor": 0
      },
      "text/plain": [
       "Validating: 0it [00:00, ?it/s]"
      ]
     },
     "metadata": {},
     "output_type": "display_data"
    },
    {
     "name": "stderr",
     "output_type": "stream",
     "text": [
      "Metric val_loss improved by 0.013 >= min_delta = 0.0. New best score: 0.554\n",
      "Epoch 5, global step 101: val_loss reached 0.55362 (best 0.55362), saving model to \"/home/jupyter/lung-cancer-detection/nbs/wandb/run-20210709_113857-2qwdlv1t/files/lung-cancer-detection/2qwdlv1t/checkpoints/epoch=5-step=101-val_loss=0.5536-val_acc=0.7766.ckpt\" as top 1\n"
     ]
    },
    {
     "data": {
      "application/vnd.jupyter.widget-view+json": {
       "model_id": "",
       "version_major": 2,
       "version_minor": 0
      },
      "text/plain": [
       "Validating: 0it [00:00, ?it/s]"
      ]
     },
     "metadata": {},
     "output_type": "display_data"
    },
    {
     "name": "stderr",
     "output_type": "stream",
     "text": [
      "Metric val_loss improved by 0.012 >= min_delta = 0.0. New best score: 0.542\n",
      "Epoch 6, global step 118: val_loss reached 0.54207 (best 0.54207), saving model to \"/home/jupyter/lung-cancer-detection/nbs/wandb/run-20210709_113857-2qwdlv1t/files/lung-cancer-detection/2qwdlv1t/checkpoints/epoch=6-step=118-val_loss=0.5421-val_acc=0.7872.ckpt\" as top 1\n"
     ]
    },
    {
     "data": {
      "application/vnd.jupyter.widget-view+json": {
       "model_id": "",
       "version_major": 2,
       "version_minor": 0
      },
      "text/plain": [
       "Validating: 0it [00:00, ?it/s]"
      ]
     },
     "metadata": {},
     "output_type": "display_data"
    },
    {
     "name": "stderr",
     "output_type": "stream",
     "text": [
      "Metric val_loss improved by 0.004 >= min_delta = 0.0. New best score: 0.538\n",
      "Epoch 7, global step 135: val_loss reached 0.53799 (best 0.53799), saving model to \"/home/jupyter/lung-cancer-detection/nbs/wandb/run-20210709_113857-2qwdlv1t/files/lung-cancer-detection/2qwdlv1t/checkpoints/epoch=7-step=135-val_loss=0.5380-val_acc=0.7915.ckpt\" as top 1\n"
     ]
    },
    {
     "data": {
      "application/vnd.jupyter.widget-view+json": {
       "model_id": "",
       "version_major": 2,
       "version_minor": 0
      },
      "text/plain": [
       "Validating: 0it [00:00, ?it/s]"
      ]
     },
     "metadata": {},
     "output_type": "display_data"
    },
    {
     "name": "stderr",
     "output_type": "stream",
     "text": [
      "Metric val_loss improved by 0.005 >= min_delta = 0.0. New best score: 0.533\n",
      "Epoch 8, global step 152: val_loss reached 0.53264 (best 0.53264), saving model to \"/home/jupyter/lung-cancer-detection/nbs/wandb/run-20210709_113857-2qwdlv1t/files/lung-cancer-detection/2qwdlv1t/checkpoints/epoch=8-step=152-val_loss=0.5326-val_acc=0.7915.ckpt\" as top 1\n"
     ]
    },
    {
     "data": {
      "application/vnd.jupyter.widget-view+json": {
       "model_id": "",
       "version_major": 2,
       "version_minor": 0
      },
      "text/plain": [
       "Validating: 0it [00:00, ?it/s]"
      ]
     },
     "metadata": {},
     "output_type": "display_data"
    },
    {
     "name": "stderr",
     "output_type": "stream",
     "text": [
      "Metric val_loss improved by 0.007 >= min_delta = 0.0. New best score: 0.526\n",
      "Epoch 9, global step 169: val_loss reached 0.52583 (best 0.52583), saving model to \"/home/jupyter/lung-cancer-detection/nbs/wandb/run-20210709_113857-2qwdlv1t/files/lung-cancer-detection/2qwdlv1t/checkpoints/epoch=9-step=169-val_loss=0.5258-val_acc=0.7894.ckpt\" as top 1\n"
     ]
    },
    {
     "data": {
      "application/vnd.jupyter.widget-view+json": {
       "model_id": "",
       "version_major": 2,
       "version_minor": 0
      },
      "text/plain": [
       "Validating: 0it [00:00, ?it/s]"
      ]
     },
     "metadata": {},
     "output_type": "display_data"
    },
    {
     "name": "stderr",
     "output_type": "stream",
     "text": [
      "Metric val_loss improved by 0.003 >= min_delta = 0.0. New best score: 0.523\n",
      "Epoch 10, global step 186: val_loss reached 0.52275 (best 0.52275), saving model to \"/home/jupyter/lung-cancer-detection/nbs/wandb/run-20210709_113857-2qwdlv1t/files/lung-cancer-detection/2qwdlv1t/checkpoints/epoch=10-step=186-val_loss=0.5228-val_acc=0.7894.ckpt\" as top 1\n"
     ]
    },
    {
     "data": {
      "application/vnd.jupyter.widget-view+json": {
       "model_id": "",
       "version_major": 2,
       "version_minor": 0
      },
      "text/plain": [
       "Validating: 0it [00:00, ?it/s]"
      ]
     },
     "metadata": {},
     "output_type": "display_data"
    },
    {
     "name": "stderr",
     "output_type": "stream",
     "text": [
      "Metric val_loss improved by 0.001 >= min_delta = 0.0. New best score: 0.522\n",
      "Epoch 11, global step 203: val_loss reached 0.52179 (best 0.52179), saving model to \"/home/jupyter/lung-cancer-detection/nbs/wandb/run-20210709_113857-2qwdlv1t/files/lung-cancer-detection/2qwdlv1t/checkpoints/epoch=11-step=203-val_loss=0.5218-val_acc=0.7894.ckpt\" as top 1\n"
     ]
    },
    {
     "data": {
      "application/vnd.jupyter.widget-view+json": {
       "model_id": "",
       "version_major": 2,
       "version_minor": 0
      },
      "text/plain": [
       "Validating: 0it [00:00, ?it/s]"
      ]
     },
     "metadata": {},
     "output_type": "display_data"
    },
    {
     "name": "stderr",
     "output_type": "stream",
     "text": [
      "Epoch 12, global step 220: val_loss was not in top 1\n"
     ]
    },
    {
     "data": {
      "application/vnd.jupyter.widget-view+json": {
       "model_id": "",
       "version_major": 2,
       "version_minor": 0
      },
      "text/plain": [
       "Validating: 0it [00:00, ?it/s]"
      ]
     },
     "metadata": {},
     "output_type": "display_data"
    },
    {
     "name": "stderr",
     "output_type": "stream",
     "text": [
      "Metric val_loss improved by 0.002 >= min_delta = 0.0. New best score: 0.519\n",
      "Epoch 13, global step 237: val_loss reached 0.51940 (best 0.51940), saving model to \"/home/jupyter/lung-cancer-detection/nbs/wandb/run-20210709_113857-2qwdlv1t/files/lung-cancer-detection/2qwdlv1t/checkpoints/epoch=13-step=237-val_loss=0.5194-val_acc=0.7830.ckpt\" as top 1\n"
     ]
    },
    {
     "data": {
      "application/vnd.jupyter.widget-view+json": {
       "model_id": "",
       "version_major": 2,
       "version_minor": 0
      },
      "text/plain": [
       "Validating: 0it [00:00, ?it/s]"
      ]
     },
     "metadata": {},
     "output_type": "display_data"
    },
    {
     "name": "stderr",
     "output_type": "stream",
     "text": [
      "Metric val_loss improved by 0.002 >= min_delta = 0.0. New best score: 0.518\n",
      "Epoch 14, global step 254: val_loss reached 0.51755 (best 0.51755), saving model to \"/home/jupyter/lung-cancer-detection/nbs/wandb/run-20210709_113857-2qwdlv1t/files/lung-cancer-detection/2qwdlv1t/checkpoints/epoch=14-step=254-val_loss=0.5176-val_acc=0.7872.ckpt\" as top 1\n"
     ]
    },
    {
     "data": {
      "application/vnd.jupyter.widget-view+json": {
       "model_id": "",
       "version_major": 2,
       "version_minor": 0
      },
      "text/plain": [
       "Validating: 0it [00:00, ?it/s]"
      ]
     },
     "metadata": {},
     "output_type": "display_data"
    },
    {
     "name": "stderr",
     "output_type": "stream",
     "text": [
      "Metric val_loss improved by 0.005 >= min_delta = 0.0. New best score: 0.513\n",
      "Epoch 15, global step 271: val_loss reached 0.51283 (best 0.51283), saving model to \"/home/jupyter/lung-cancer-detection/nbs/wandb/run-20210709_113857-2qwdlv1t/files/lung-cancer-detection/2qwdlv1t/checkpoints/epoch=15-step=271-val_loss=0.5128-val_acc=0.7957.ckpt\" as top 1\n"
     ]
    },
    {
     "data": {
      "application/vnd.jupyter.widget-view+json": {
       "model_id": "",
       "version_major": 2,
       "version_minor": 0
      },
      "text/plain": [
       "Validating: 0it [00:00, ?it/s]"
      ]
     },
     "metadata": {},
     "output_type": "display_data"
    },
    {
     "name": "stderr",
     "output_type": "stream",
     "text": [
      "Metric val_loss improved by 0.001 >= min_delta = 0.0. New best score: 0.512\n",
      "Epoch 16, global step 288: val_loss reached 0.51203 (best 0.51203), saving model to \"/home/jupyter/lung-cancer-detection/nbs/wandb/run-20210709_113857-2qwdlv1t/files/lung-cancer-detection/2qwdlv1t/checkpoints/epoch=16-step=288-val_loss=0.5120-val_acc=0.7915.ckpt\" as top 1\n"
     ]
    },
    {
     "data": {
      "application/vnd.jupyter.widget-view+json": {
       "model_id": "",
       "version_major": 2,
       "version_minor": 0
      },
      "text/plain": [
       "Validating: 0it [00:00, ?it/s]"
      ]
     },
     "metadata": {},
     "output_type": "display_data"
    },
    {
     "name": "stderr",
     "output_type": "stream",
     "text": [
      "Epoch 17, global step 305: val_loss was not in top 1\n"
     ]
    },
    {
     "data": {
      "application/vnd.jupyter.widget-view+json": {
       "model_id": "",
       "version_major": 2,
       "version_minor": 0
      },
      "text/plain": [
       "Validating: 0it [00:00, ?it/s]"
      ]
     },
     "metadata": {},
     "output_type": "display_data"
    },
    {
     "name": "stderr",
     "output_type": "stream",
     "text": [
      "Epoch 18, global step 322: val_loss was not in top 1\n"
     ]
    },
    {
     "data": {
      "application/vnd.jupyter.widget-view+json": {
       "model_id": "",
       "version_major": 2,
       "version_minor": 0
      },
      "text/plain": [
       "Validating: 0it [00:00, ?it/s]"
      ]
     },
     "metadata": {},
     "output_type": "display_data"
    },
    {
     "name": "stderr",
     "output_type": "stream",
     "text": [
      "Monitored metric val_loss did not improve in the last 3 records. Best score: 0.512. Signaling Trainer to stop.\n",
      "Epoch 19, global step 339: val_loss was not in top 1\n"
     ]
    }
   ],
   "source": [
    "trainer.fit(model, datamodule=dm)"
   ]
  },
  {
   "cell_type": "markdown",
   "id": "e713d0c6",
   "metadata": {},
   "source": [
    "### Finish experiment"
   ]
  },
  {
   "cell_type": "code",
   "execution_count": 23,
   "id": "c8c209a2",
   "metadata": {},
   "outputs": [
    {
     "data": {
      "text/plain": [
       "<wandb.sdk.wandb_artifacts.Artifact at 0x7f32a64f1e10>"
      ]
     },
     "execution_count": 23,
     "metadata": {},
     "output_type": "execute_result"
    }
   ],
   "source": [
    "model_artifact = wandb.Artifact(\n",
    "    config[\"artifacts\"][\"class_model\"][\"name\"],\n",
    "    type=config[\"artifacts\"][\"class_model\"][\"type\"],\n",
    "    description=config[\"artifacts\"][\"class_model\"][\"description\"],\n",
    ")\n",
    "model_artifact.add_file(mc.best_model_path)\n",
    "trainer.logger.experiment.log_artifact(model_artifact)"
   ]
  },
  {
   "cell_type": "code",
   "execution_count": 24,
   "id": "2e314807",
   "metadata": {},
   "outputs": [
    {
     "data": {
      "text/html": [
       "<br/>Waiting for W&B process to finish, PID 27812<br/>Program ended successfully."
      ],
      "text/plain": [
       "<IPython.core.display.HTML object>"
      ]
     },
     "metadata": {},
     "output_type": "display_data"
    },
    {
     "data": {
      "application/vnd.jupyter.widget-view+json": {
       "model_id": "",
       "version_major": 2,
       "version_minor": 0
      },
      "text/plain": [
       "VBox(children=(Label(value=' 129.67MB of 129.67MB uploaded (0.00MB deduped)\\r'), FloatProgress(value=1.0, max=…"
      ]
     },
     "metadata": {},
     "output_type": "display_data"
    },
    {
     "data": {
      "text/html": [
       "Find user logs for this run at: <code>/home/jupyter/lung-cancer-detection/nbs/wandb/run-20210709_113857-2qwdlv1t/logs/debug.log</code>"
      ],
      "text/plain": [
       "<IPython.core.display.HTML object>"
      ]
     },
     "metadata": {},
     "output_type": "display_data"
    },
    {
     "data": {
      "text/html": [
       "Find internal logs for this run at: <code>/home/jupyter/lung-cancer-detection/nbs/wandb/run-20210709_113857-2qwdlv1t/logs/debug-internal.log</code>"
      ],
      "text/plain": [
       "<IPython.core.display.HTML object>"
      ]
     },
     "metadata": {},
     "output_type": "display_data"
    },
    {
     "data": {
      "text/html": [
       "<h3>Run summary:</h3><br/><style>\n",
       "    table.wandb td:nth-child(1) { padding: 0 10px; text-align: right }\n",
       "    </style><table class=\"wandb\">\n",
       "<tr><td>val_loss</td><td>0.51524</td></tr><tr><td>val_acc</td><td>0.78936</td></tr><tr><td>epoch</td><td>19</td></tr><tr><td>trainer/global_step</td><td>339</td></tr><tr><td>_runtime</td><td>225</td></tr><tr><td>_timestamp</td><td>1625830962</td></tr><tr><td>_step</td><td>25</td></tr><tr><td>train_loss</td><td>0.11314</td></tr><tr><td>train_acc</td><td>1.0</td></tr></table>"
      ],
      "text/plain": [
       "<IPython.core.display.HTML object>"
      ]
     },
     "metadata": {},
     "output_type": "display_data"
    },
    {
     "data": {
      "text/html": [
       "<h3>Run history:</h3><br/><style>\n",
       "    table.wandb td:nth-child(1) { padding: 0 10px; text-align: right }\n",
       "    </style><table class=\"wandb\">\n",
       "<tr><td>val_loss</td><td>██▅▄▃▃▂▂▂▂▁▁▁▁▁▁▁▁▁▁</td></tr><tr><td>val_acc</td><td>▁▁▆▇▇▇██████████████</td></tr><tr><td>epoch</td><td>▁▁▂▂▂▂▃▃▃▄▄▄▄▅▅▅▅▆▆▆▇▇▇▇██</td></tr><tr><td>trainer/global_step</td><td>▁▁▂▂▂▂▃▃▃▄▄▄▄▅▅▅▅▆▆▆▇▇▇▇██</td></tr><tr><td>_runtime</td><td>▁▁▂▂▂▃▃▃▃▄▄▄▄▅▅▅▅▆▆▆▇▇▇▇██</td></tr><tr><td>_timestamp</td><td>▁▁▂▂▂▃▃▃▃▄▄▄▄▅▅▅▅▆▆▆▇▇▇▇██</td></tr><tr><td>_step</td><td>▁▁▂▂▂▂▃▃▃▄▄▄▄▅▅▅▅▆▆▆▇▇▇▇██</td></tr><tr><td>train_loss</td><td>█▆▅▃▂▁</td></tr><tr><td>train_acc</td><td>▁▆▆▇██</td></tr></table><br/>"
      ],
      "text/plain": [
       "<IPython.core.display.HTML object>"
      ]
     },
     "metadata": {},
     "output_type": "display_data"
    },
    {
     "data": {
      "text/html": [
       "Synced 6 W&B file(s), 0 media file(s), 1 artifact file(s) and 1 other file(s)"
      ],
      "text/plain": [
       "<IPython.core.display.HTML object>"
      ]
     },
     "metadata": {},
     "output_type": "display_data"
    },
    {
     "data": {
      "text/html": [
       "\n",
       "                    <br/>Synced <strong style=\"color:#cdcd00\">azure-blaze-51</strong>: <a href=\"https://wandb.ai/felixpeters/lung-cancer-detection/runs/2qwdlv1t\" target=\"_blank\">https://wandb.ai/felixpeters/lung-cancer-detection/runs/2qwdlv1t</a><br/>\n",
       "                "
      ],
      "text/plain": [
       "<IPython.core.display.HTML object>"
      ]
     },
     "metadata": {},
     "output_type": "display_data"
    }
   ],
   "source": [
    "wandb.finish()"
   ]
  },
  {
   "cell_type": "code",
   "execution_count": null,
   "id": "139022f3",
   "metadata": {},
   "outputs": [],
   "source": []
  }
 ],
 "metadata": {
  "environment": {
   "name": "pytorch-gpu.1-9.m74",
   "type": "gcloud",
   "uri": "gcr.io/deeplearning-platform-release/pytorch-gpu.1-9:m74"
  },
  "kernelspec": {
   "display_name": "Python 3",
   "language": "python",
   "name": "python3"
  },
  "language_info": {
   "codemirror_mode": {
    "name": "ipython",
    "version": 3
   },
   "file_extension": ".py",
   "mimetype": "text/x-python",
   "name": "python",
   "nbconvert_exporter": "python",
   "pygments_lexer": "ipython3",
   "version": "3.7.10"
  },
  "toc": {
   "base_numbering": 1,
   "nav_menu": {},
   "number_sections": true,
   "sideBar": true,
   "skip_h1_title": true,
   "title_cell": "Table of Contents",
   "title_sidebar": "Contents",
   "toc_cell": false,
   "toc_position": {},
   "toc_section_display": true,
   "toc_window_display": false
  }
 },
 "nbformat": 4,
 "nbformat_minor": 5
}
